{
 "cells": [
  {
   "cell_type": "code",
   "execution_count": 2,
   "metadata": {},
   "outputs": [],
   "source": [
    "import pandas as pd\n",
    "import matplotlib.pyplot as plt\n",
    "import numpy as np\n",
    "import time\n",
    "import collections\n",
    "import csv\n",
    "import re"
   ]
  },
  {
   "cell_type": "code",
   "execution_count": 3,
   "metadata": {},
   "outputs": [
    {
     "data": {
      "text/html": [
       "<div>\n",
       "<style scoped>\n",
       "    .dataframe tbody tr th:only-of-type {\n",
       "        vertical-align: middle;\n",
       "    }\n",
       "\n",
       "    .dataframe tbody tr th {\n",
       "        vertical-align: top;\n",
       "    }\n",
       "\n",
       "    .dataframe thead th {\n",
       "        text-align: right;\n",
       "    }\n",
       "</style>\n",
       "<table border=\"1\" class=\"dataframe\">\n",
       "  <thead>\n",
       "    <tr style=\"text-align: right;\">\n",
       "      <th></th>\n",
       "      <th>time</th>\n",
       "      <th>sender</th>\n",
       "      <th>recipients</th>\n",
       "    </tr>\n",
       "  </thead>\n",
       "  <tbody>\n",
       "    <tr>\n",
       "      <th>0</th>\n",
       "      <td>(1998, 5, 27, 22, 31, 0, 2, 147, 0)</td>\n",
       "      <td>christopher behney</td>\n",
       "      <td>toni p schulenburg|mary hain</td>\n",
       "    </tr>\n",
       "    <tr>\n",
       "      <th>1</th>\n",
       "      <td>(1998, 10, 30, 23, 43, 0, 4, 303, 0)</td>\n",
       "      <td>mark legal taylor</td>\n",
       "      <td>marc.r.cutler@bankamerica.com</td>\n",
       "    </tr>\n",
       "    <tr>\n",
       "      <th>2</th>\n",
       "      <td>(1998, 10, 30, 23, 56, 0, 4, 303, 0)</td>\n",
       "      <td>mark legal taylor</td>\n",
       "      <td>marc.r.cutler@bankamerica.com</td>\n",
       "    </tr>\n",
       "    <tr>\n",
       "      <th>3</th>\n",
       "      <td>(1998, 10, 31, 0, 2, 0, 5, 304, 0)</td>\n",
       "      <td>mark legal taylor</td>\n",
       "      <td>shari stack</td>\n",
       "    </tr>\n",
       "    <tr>\n",
       "      <th>4</th>\n",
       "      <td>(1998, 10, 31, 1, 6, 0, 5, 304, 0)</td>\n",
       "      <td>mark legal taylor</td>\n",
       "      <td>marc.r.cutler@bankamerica.com</td>\n",
       "    </tr>\n",
       "    <tr>\n",
       "      <th>5</th>\n",
       "      <td>(1998, 11, 3, 3, 32, 0, 1, 307, 0)</td>\n",
       "      <td>mark legal taylor</td>\n",
       "      <td>yao apasu</td>\n",
       "    </tr>\n",
       "    <tr>\n",
       "      <th>6</th>\n",
       "      <td>(1998, 11, 3, 19, 12, 0, 1, 307, 0)</td>\n",
       "      <td>yao apasu</td>\n",
       "      <td>brent hendry|mark legal taylor</td>\n",
       "    </tr>\n",
       "    <tr>\n",
       "      <th>7</th>\n",
       "      <td>(1998, 11, 4, 18, 31, 0, 2, 308, 0)</td>\n",
       "      <td>mark legal taylor</td>\n",
       "      <td>marc.r.cutler@bankamerica.com</td>\n",
       "    </tr>\n",
       "    <tr>\n",
       "      <th>8</th>\n",
       "      <td>(1998, 11, 4, 19, 59, 0, 2, 308, 0)</td>\n",
       "      <td>mark legal taylor</td>\n",
       "      <td>paul simons</td>\n",
       "    </tr>\n",
       "    <tr>\n",
       "      <th>9</th>\n",
       "      <td>(1998, 11, 5, 1, 3, 0, 3, 309, 0)</td>\n",
       "      <td>mark legal taylor</td>\n",
       "      <td>cynthia c sandherr@enron|jeffrey keeler@enron|...</td>\n",
       "    </tr>\n",
       "  </tbody>\n",
       "</table>\n",
       "</div>"
      ],
      "text/plain": [
       "                                   time              sender  \\\n",
       "0   (1998, 5, 27, 22, 31, 0, 2, 147, 0)  christopher behney   \n",
       "1  (1998, 10, 30, 23, 43, 0, 4, 303, 0)   mark legal taylor   \n",
       "2  (1998, 10, 30, 23, 56, 0, 4, 303, 0)   mark legal taylor   \n",
       "3    (1998, 10, 31, 0, 2, 0, 5, 304, 0)   mark legal taylor   \n",
       "4    (1998, 10, 31, 1, 6, 0, 5, 304, 0)   mark legal taylor   \n",
       "5    (1998, 11, 3, 3, 32, 0, 1, 307, 0)   mark legal taylor   \n",
       "6   (1998, 11, 3, 19, 12, 0, 1, 307, 0)           yao apasu   \n",
       "7   (1998, 11, 4, 18, 31, 0, 2, 308, 0)   mark legal taylor   \n",
       "8   (1998, 11, 4, 19, 59, 0, 2, 308, 0)   mark legal taylor   \n",
       "9     (1998, 11, 5, 1, 3, 0, 3, 309, 0)   mark legal taylor   \n",
       "\n",
       "                                          recipients  \n",
       "0                       toni p schulenburg|mary hain  \n",
       "1                      marc.r.cutler@bankamerica.com  \n",
       "2                      marc.r.cutler@bankamerica.com  \n",
       "3                                        shari stack  \n",
       "4                      marc.r.cutler@bankamerica.com  \n",
       "5                                          yao apasu  \n",
       "6                     brent hendry|mark legal taylor  \n",
       "7                      marc.r.cutler@bankamerica.com  \n",
       "8                                        paul simons  \n",
       "9  cynthia c sandherr@enron|jeffrey keeler@enron|...  "
      ]
     },
     "execution_count": 3,
     "metadata": {},
     "output_type": "execute_result"
    }
   ],
   "source": [
    "#upload the data file \n",
    "file_name = 'enron-event-history-all.csv'\n",
    "enron_data = pd.read_csv(file_name, names = ['time', 'message identifier', 'sender', 'recipients','topic', 'mode'], header=None)\n",
    "\n",
    "#convert all string to be lower case, because there are same name not in the same format\n",
    "enron_data = enron_data.applymap(lambda s:s.lower() if type(s) == str else s)\n",
    "#drop columns after investigation\n",
    "enron_data = enron_data.drop(columns=['message identifier', 'topic', 'mode'])\n",
    "#convert time form milliseconds to datetime\n",
    "enron_data['time'] = enron_data['time'].apply(lambda x: time.gmtime(x/1000.))\n",
    "enron_data = enron_data.dropna(axis=0,how='any')\n",
    "enron_data.head(10)\n"
   ]
  },
  {
   "cell_type": "code",
   "execution_count": 4,
   "metadata": {},
   "outputs": [],
   "source": [
    "def clean_email(s1):\n",
    "    # remove @email address\n",
    "    s1 = s1.split('@')[0]\n",
    "    #replace special char with space\n",
    "    s1 = re.sub('[^A-Za-z0-9]+', ' ', s1)\n",
    "    #remove all prefix and suffix space\n",
    "    s1 = s1.strip(' ')\n",
    "    return s1\n",
    "\n",
    "def process_person_count(df):\n",
    "    person_count={}\n",
    "    for idx,row in df.iterrows():    \n",
    "        person = clean_email(row[1])\n",
    "        \n",
    "        #sender\n",
    "        if person not in person_count:\n",
    "            person_count[person] = [1,0]\n",
    "        else:\n",
    "            #old_count = \n",
    "            person_count[person] = [person_count[person][0]+1,person_count[person][1]]\n",
    "\n",
    "        # recepients\n",
    "        recepients = row[2].split('|')\n",
    "        # print(recipients)\n",
    "        for recepient in recepients:\n",
    "            recepient= clean_email(recepient)\n",
    "            if recepient not in person_count:\n",
    "                person_count[recepient] = [0,1]\n",
    "            else:\n",
    "                person_count[recepient] = [person_count[recepient][0],person_count[recepient][1]+1]\n",
    "    return person_count\n",
    "\n",
    "def write_csv(df):\n",
    "    # writes the dictionary to the output\n",
    "    with open('contact.csv', mode='w',newline='') as contact:\n",
    "        contact_writer = csv.writer(contact, delimiter=',', quotechar='\"', quoting=csv.QUOTE_MINIMAL)\n",
    "        contact_writer.writerow(['person','sent','received'])\n",
    "        for person in df.index:\n",
    "            contact_writer.writerow([person,person_count[person][0] ,person_count[person][1]])\n",
    "        "
   ]
  },
  {
   "cell_type": "code",
   "execution_count": 5,
   "metadata": {},
   "outputs": [],
   "source": [
    "person_count = process_person_count(enron_data)\n"
   ]
  },
  {
   "cell_type": "code",
   "execution_count": 6,
   "metadata": {},
   "outputs": [
    {
     "data": {
      "text/html": [
       "<div>\n",
       "<style scoped>\n",
       "    .dataframe tbody tr th:only-of-type {\n",
       "        vertical-align: middle;\n",
       "    }\n",
       "\n",
       "    .dataframe tbody tr th {\n",
       "        vertical-align: top;\n",
       "    }\n",
       "\n",
       "    .dataframe thead th {\n",
       "        text-align: right;\n",
       "    }\n",
       "</style>\n",
       "<table border=\"1\" class=\"dataframe\">\n",
       "  <thead>\n",
       "    <tr style=\"text-align: right;\">\n",
       "      <th></th>\n",
       "      <th>sent</th>\n",
       "      <th>received</th>\n",
       "    </tr>\n",
       "    <tr>\n",
       "      <th>person</th>\n",
       "      <th></th>\n",
       "      <th></th>\n",
       "    </tr>\n",
       "  </thead>\n",
       "  <tbody>\n",
       "    <tr>\n",
       "      <th>christopher behney</th>\n",
       "      <td>1</td>\n",
       "      <td>0</td>\n",
       "    </tr>\n",
       "    <tr>\n",
       "      <th>toni p schulenburg</th>\n",
       "      <td>0</td>\n",
       "      <td>1</td>\n",
       "    </tr>\n",
       "    <tr>\n",
       "      <th>mary hain</th>\n",
       "      <td>391</td>\n",
       "      <td>424</td>\n",
       "    </tr>\n",
       "    <tr>\n",
       "      <th>mark legal taylor</th>\n",
       "      <td>519</td>\n",
       "      <td>183</td>\n",
       "    </tr>\n",
       "    <tr>\n",
       "      <th>marc r cutler</th>\n",
       "      <td>0</td>\n",
       "      <td>35</td>\n",
       "    </tr>\n",
       "    <tr>\n",
       "      <th>shari stack</th>\n",
       "      <td>74</td>\n",
       "      <td>227</td>\n",
       "    </tr>\n",
       "    <tr>\n",
       "      <th>yao apasu</th>\n",
       "      <td>4</td>\n",
       "      <td>49</td>\n",
       "    </tr>\n",
       "    <tr>\n",
       "      <th>brent hendry</th>\n",
       "      <td>168</td>\n",
       "      <td>669</td>\n",
       "    </tr>\n",
       "    <tr>\n",
       "      <th>paul simons</th>\n",
       "      <td>59</td>\n",
       "      <td>214</td>\n",
       "    </tr>\n",
       "    <tr>\n",
       "      <th>cynthia c sandherr</th>\n",
       "      <td>0</td>\n",
       "      <td>1</td>\n",
       "    </tr>\n",
       "  </tbody>\n",
       "</table>\n",
       "</div>"
      ],
      "text/plain": [
       "                    sent  received\n",
       "person                            \n",
       "christopher behney     1         0\n",
       "toni p schulenburg     0         1\n",
       "mary hain            391       424\n",
       "mark legal taylor    519       183\n",
       "marc r cutler          0        35\n",
       "shari stack           74       227\n",
       "yao apasu              4        49\n",
       "brent hendry         168       669\n",
       "paul simons           59       214\n",
       "cynthia c sandherr     0         1"
      ]
     },
     "execution_count": 6,
     "metadata": {},
     "output_type": "execute_result"
    }
   ],
   "source": [
    "df = pd.DataFrame.from_dict(person_count, orient='index',columns = ['sent','received'])\n",
    "df.index.names = ['person']\n",
    "df.head(10)"
   ]
  },
  {
   "cell_type": "code",
   "execution_count": 7,
   "metadata": {},
   "outputs": [
    {
     "data": {
      "text/html": [
       "<div>\n",
       "<style scoped>\n",
       "    .dataframe tbody tr th:only-of-type {\n",
       "        vertical-align: middle;\n",
       "    }\n",
       "\n",
       "    .dataframe tbody tr th {\n",
       "        vertical-align: top;\n",
       "    }\n",
       "\n",
       "    .dataframe thead th {\n",
       "        text-align: right;\n",
       "    }\n",
       "</style>\n",
       "<table border=\"1\" class=\"dataframe\">\n",
       "  <thead>\n",
       "    <tr style=\"text-align: right;\">\n",
       "      <th></th>\n",
       "      <th>sent</th>\n",
       "      <th>received</th>\n",
       "    </tr>\n",
       "    <tr>\n",
       "      <th>person</th>\n",
       "      <th></th>\n",
       "      <th></th>\n",
       "    </tr>\n",
       "  </thead>\n",
       "  <tbody>\n",
       "    <tr>\n",
       "      <th>jeff dasovich</th>\n",
       "      <td>5232</td>\n",
       "      <td>2249</td>\n",
       "    </tr>\n",
       "    <tr>\n",
       "      <th>sara shackleton</th>\n",
       "      <td>4591</td>\n",
       "      <td>5217</td>\n",
       "    </tr>\n",
       "    <tr>\n",
       "      <th>pete davis</th>\n",
       "      <td>3898</td>\n",
       "      <td>853</td>\n",
       "    </tr>\n",
       "    <tr>\n",
       "      <th>chris germany</th>\n",
       "      <td>3703</td>\n",
       "      <td>1591</td>\n",
       "    </tr>\n",
       "    <tr>\n",
       "      <th>notes</th>\n",
       "      <td>3314</td>\n",
       "      <td>1023</td>\n",
       "    </tr>\n",
       "    <tr>\n",
       "      <th>vince kaminski</th>\n",
       "      <td>2937</td>\n",
       "      <td>3046</td>\n",
       "    </tr>\n",
       "    <tr>\n",
       "      <th>matthew lenhart</th>\n",
       "      <td>2832</td>\n",
       "      <td>448</td>\n",
       "    </tr>\n",
       "    <tr>\n",
       "      <th>debra perlingiere</th>\n",
       "      <td>2611</td>\n",
       "      <td>469</td>\n",
       "    </tr>\n",
       "    <tr>\n",
       "      <th>gerald nemec</th>\n",
       "      <td>2353</td>\n",
       "      <td>3301</td>\n",
       "    </tr>\n",
       "    <tr>\n",
       "      <th>announcements</th>\n",
       "      <td>2243</td>\n",
       "      <td>5</td>\n",
       "    </tr>\n",
       "  </tbody>\n",
       "</table>\n",
       "</div>"
      ],
      "text/plain": [
       "                   sent  received\n",
       "person                           \n",
       "jeff dasovich      5232      2249\n",
       "sara shackleton    4591      5217\n",
       "pete davis         3898       853\n",
       "chris germany      3703      1591\n",
       "notes              3314      1023\n",
       "vince kaminski     2937      3046\n",
       "matthew lenhart    2832       448\n",
       "debra perlingiere  2611       469\n",
       "gerald nemec       2353      3301\n",
       "announcements      2243         5"
      ]
     },
     "execution_count": 7,
     "metadata": {},
     "output_type": "execute_result"
    }
   ],
   "source": [
    "sort_by_sent = df.sort_values('sent',ascending=False)\n",
    "sort_by_sent.head(10)"
   ]
  },
  {
   "cell_type": "code",
   "execution_count": 9,
   "metadata": {},
   "outputs": [],
   "source": [
    "write_csv(sort_by_sent)"
   ]
  },
  {
   "cell_type": "code",
   "execution_count": 10,
   "metadata": {},
   "outputs": [
    {
     "data": {
      "text/plain": [
       "Index(['jeff dasovich', 'sara shackleton', 'pete davis', 'chris germany',\n",
       "       'notes'],\n",
       "      dtype='object', name='person')"
      ]
     },
     "execution_count": 10,
     "metadata": {},
     "output_type": "execute_result"
    }
   ],
   "source": [
    "topNSender = sort_by_sent.index[0:5]\n",
    "topNSender"
   ]
  },
  {
   "cell_type": "code",
   "execution_count": 11,
   "metadata": {},
   "outputs": [],
   "source": [
    "#get the sender over time\n",
    "#get the time interval\n",
    "time_count = (2002-1998+1)*12\n",
    "def get_time():\n",
    "    yearMonthly = []\n",
    "    for i in range(time_count):\n",
    "        year = i // 12 + 1998\n",
    "        month = i % 12 + 1\n",
    "        year = str(year)\n",
    "        if month < 10:\n",
    "            month = str(0) + str(month)\n",
    "        else:\n",
    "            month = str(month)\n",
    "        yearMonthly.append(year+month)\n",
    "    return yearMonthly"
   ]
  },
  {
   "cell_type": "code",
   "execution_count": 12,
   "metadata": {},
   "outputs": [],
   "source": [
    "yearMonthly = get_time()"
   ]
  },
  {
   "cell_type": "code",
   "execution_count": 13,
   "metadata": {},
   "outputs": [],
   "source": [
    "def sender_over_time(enron_data):\n",
    "    SenderCountOverTime = {}\n",
    "    for row in enron_data.iterrows():\n",
    "        row_id, content = row\n",
    "        times,sender,receiver = content\n",
    "        if sender in topNSender:\n",
    "            listOfreceiver = receiver.split(\"|\")\n",
    "           \n",
    "            countOverTime = {}\n",
    "            formatTime = time.strftime('%m/%d/%Y %H:%M:%S',  times)\n",
    "            month,day,yearandtime = formatTime.split(\"/\")\n",
    "            year, exactTime = yearandtime.split(\" \")\n",
    "\n",
    "            index = (int(year) - 1998)*12 + int(month)\n",
    "            if not sender in SenderCountOverTime.keys():\n",
    "                templist = [0]*time_count\n",
    "                templist[index] = len(listOfreceiver)\n",
    "                SenderCountOverTime[sender] = templist[:]\n",
    "            else:   \n",
    "                templist[index] = SenderCountOverTime[sender][index] + len(listOfreceiver)                    \n",
    "                SenderCountOverTime[sender] = templist[:]\n",
    "    return SenderCountOverTime"
   ]
  },
  {
   "cell_type": "code",
   "execution_count": 14,
   "metadata": {},
   "outputs": [],
   "source": [
    "SenderCountOverTime = sender_over_time(enron_data)"
   ]
  },
  {
   "cell_type": "code",
   "execution_count": 15,
   "metadata": {},
   "outputs": [],
   "source": [
    "#get the receiver over time\n",
    "def unique_received_count_over_time(enron_data):\n",
    "    #define the time interval\n",
    "    yearHafly = {'f1998':0,'s1998':1,'f1999':2,'s1999':3,'f2000':4,'s2000':5,'f2001':6,'s2001':7,'f2002':8,'s2002':9}\n",
    "    \n",
    "    trackingunique = {}\n",
    "    uniqueReceivedCountOverTime = {}\n",
    "\n",
    "    for row in enron_data.iterrows():\n",
    "        row_id, content = row\n",
    "    #    print(row_id)\n",
    "        times,sender,receiver = content         \n",
    "        formatTime = time.strftime('%m/%d/%Y %H:%M:%S', times)\n",
    "        month,day,yearandtime = formatTime.split(\"/\")\n",
    "        year, exactTime = yearandtime.split(\" \")\n",
    "        countreceiver = 0\n",
    "        listOfreceiver = receiver.split(\"|\")\n",
    "        if int(month) < 6:\n",
    "            #first half year\n",
    "            haflyCount =  str(\"f\") + str(year)\n",
    "        else:\n",
    "            #second half year\n",
    "            haflyCount =  str(\"s\") + str(year)\n",
    "        index = yearHafly.get(haflyCount)\n",
    "        while countreceiver < len(listOfreceiver):\n",
    "            preceiver = listOfreceiver[countreceiver]\n",
    "            \n",
    "            #clean the email to remove other charaters and only keep names\n",
    "            preceiver = clean_email(preceiver)\n",
    "            if preceiver in topNSender:\n",
    "                timeAndSender = str(preceiver) + str(sender) + str(haflyCount)\n",
    "                if not timeAndSender in trackingunique.keys():\n",
    "                    trackingunique[timeAndSender] = 1                     \n",
    "                    if not preceiver in uniqueReceivedCountOverTime.keys():\n",
    "                        tempor = [0,0,0,0,0,0,0,0,0,0]\n",
    "                        tempor[index] = 1\n",
    "                        uniqueReceivedCountOverTime[preceiver] = tempor\n",
    "                    else:\n",
    "                        uniqueReceivedCountOverTime[preceiver][index] += 1\n",
    "                else:\n",
    "                    trackingunique[timeAndSender] = 1\n",
    "            countreceiver += 1\n",
    "    \n",
    "    return uniqueReceivedCountOverTime"
   ]
  },
  {
   "cell_type": "code",
   "execution_count": 16,
   "metadata": {},
   "outputs": [],
   "source": [
    "SenderCountOverTime = sender_over_time(enron_data)"
   ]
  },
  {
   "cell_type": "code",
   "execution_count": 17,
   "metadata": {},
   "outputs": [],
   "source": [
    "uniqueReceivedCountOverTime = unique_received_count_over_time(enron_data)"
   ]
  },
  {
   "cell_type": "code",
   "execution_count": 18,
   "metadata": {},
   "outputs": [],
   "source": [
    "#convert keys and values of dictionary to be lists\n",
    "topNPersonSend = list(SenderCountOverTime.keys())\n",
    "topNPersonSendCount = list(SenderCountOverTime.values())\n",
    "topNPersonReceived = list(uniqueReceivedCountOverTime.keys())\n",
    "topNPersonReceivedCount = list(uniqueReceivedCountOverTime.values())\n"
   ]
  },
  {
   "cell_type": "code",
   "execution_count": 19,
   "metadata": {},
   "outputs": [
    {
     "data": {
      "text/plain": [
       "Text(0,0.5,'Sending Count')"
      ]
     },
     "execution_count": 19,
     "metadata": {},
     "output_type": "execute_result"
    },
    {
     "data": {
      "image/png": "[encoded data removed]",
      "text/plain": [
       "<Figure size 432x288 with 1 Axes>"
      ]
     },
     "metadata": {},
     "output_type": "display_data"
    }
   ],
   "source": [
    "#plot sending count\n",
    "sendingFigure = plt.figure(\"Sending Email Count Monthly\")\n",
    "plt.figure(1, figsize = (8.5,11))\n",
    "axes = plt.gca()\n",
    "plt.xticks(range(time_count), yearMonthly, rotation=45)\n",
    "axes.set_xlim([37,50])\n",
    "plt.plot(range(time_count), topNPersonSendCount[0], 'b-', label = topNPersonReceived[0])\n",
    "plt.plot(range(time_count), topNPersonSendCount[1], 'r-', label = topNPersonReceived[1])\n",
    "plt.plot(range(time_count), topNPersonSendCount[2], 'g-', label = topNPersonReceived[2])\n",
    "plt.plot(range(time_count), topNPersonSendCount[3], 'y-', label = topNPersonReceived[3])\n",
    "plt.plot(range(time_count), topNPersonSendCount[4], 'm-', label = topNPersonReceived[4])\n",
    "plt.legend()\n",
    "plt.xlabel('Duration(Monthly)')\n",
    "plt.ylabel('Sending Count')"
   ]
  },
  {
   "cell_type": "code",
   "execution_count": 20,
   "metadata": {},
   "outputs": [
    {
     "data": {
      "text/plain": [
       "Text(0,0.5,'Receiving Count')"
      ]
     },
     "execution_count": 20,
     "metadata": {},
     "output_type": "execute_result"
    },
    {
     "data": {
      "image/png": "[encoded data removed]",
      "text/plain": [
       "<Figure size 432x288 with 1 Axes>"
      ]
     },
     "metadata": {},
     "output_type": "display_data"
    }
   ],
   "source": [
    "#set the time interval names\n",
    "xAxisName = ['1998/1st','1998/2nd','1999/1st','1999/2nd','2000/1st','2000/2nd','2001/1st','2001/2nd','2002/1st','2002/2nd']\n",
    "#plot receiving count\n",
    "receivingFigure = plt.figure(\"Unique Email Receiving Count For Each Six Months\")\n",
    "plt.figure(1, figsize = (10,14))\n",
    "axes = plt.gca()\n",
    "axes.set_xlim([0,11])\n",
    "axes.set_ylim([0,300])\n",
    "yticks = np.arange(0, 300, 20)\n",
    "plt.xticks(range(10), xAxisName, rotation = 45)\n",
    "plt.yticks(yticks)\n",
    "plt.plot(range(10), topNPersonReceivedCount[0], 'b-', label = topNPersonReceived[0])\n",
    "plt.plot(range(10), topNPersonReceivedCount[1], 'r-', label = topNPersonReceived[1])\n",
    "plt.plot(range(10), topNPersonReceivedCount[2], 'g-', label = topNPersonReceived[2])\n",
    "plt.plot(range(10), topNPersonReceivedCount[3], 'y-', label = topNPersonReceived[3])\n",
    "plt.plot(range(10), topNPersonReceivedCount[4], 'm-', label = topNPersonReceived[4])\n",
    "plt.legend()\n",
    "plt.xlabel('Duration(Six Months)')\n",
    "plt.ylabel('Receiving Count')"
   ]
  },
  {
   "cell_type": "code",
   "execution_count": 21,
   "metadata": {},
   "outputs": [],
   "source": [
    "#save the pics\n",
    "receivingFigure.savefig(\"Unique Email Receiving Count For Each Six Months\", dpi=100)\n",
    "sendingFigure.savefig(\"Sending Email Count Monthly\", dpi=100)"
   ]
  },
  {
   "cell_type": "code",
   "execution_count": null,
   "metadata": {},
   "outputs": [],
   "source": []
  }
 ],
 "metadata": {
  "kernelspec": {
   "display_name": "Python 3",
   "language": "python",
   "name": "python3"
  },
  "language_info": {
   "codemirror_mode": {
    "name": "ipython",
    "version": 3
   },
   "file_extension": ".py",
   "mimetype": "text/x-python",
   "name": "python",
   "nbconvert_exporter": "python",
   "pygments_lexer": "ipython3",
   "version": "3.6.5"
  }
 },
 "nbformat": 4,
 "nbformat_minor": 2
}
